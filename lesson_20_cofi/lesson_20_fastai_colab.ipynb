{
 "cells": [
  {
   "cell_type": "markdown",
   "metadata": {
    "id": "WjUUihLXHmi8"
   },
   "source": [
    "# FastAi. Collaborative filtering \n",
    "Note: This is to run on colab\n",
    "## Load data "
   ]
  },
  {
   "cell_type": "code",
   "execution_count": 1,
   "metadata": {
    "colab": {
     "base_uri": "https://localhost:8080/"
    },
    "id": "5XTjmKbNNYZw",
    "outputId": "6b802f08-b309-4dd1-c502-34f8a4f73346"
   },
   "outputs": [
    {
     "name": "stdout",
     "output_type": "stream",
     "text": [
      "--2021-08-30 12:42:00--  https://www.dropbox.com/s/nh7h0bfyg3fquav/ratings.txt?dl=0\n",
      "Resolving www.dropbox.com (www.dropbox.com)... 162.125.3.18, 2620:100:6018:18::a27d:312\n",
      "Connecting to www.dropbox.com (www.dropbox.com)|162.125.3.18|:443... connected.\n",
      "HTTP request sent, awaiting response... 301 Moved Permanently\n",
      "Location: /s/raw/nh7h0bfyg3fquav/ratings.txt [following]\n",
      "--2021-08-30 12:42:00--  https://www.dropbox.com/s/raw/nh7h0bfyg3fquav/ratings.txt\n",
      "Reusing existing connection to www.dropbox.com:443.\n",
      "HTTP request sent, awaiting response... 302 Found\n",
      "Location: https://uc142bfa41043e39fd41c3bbaa73.dl.dropboxusercontent.com/cd/0/inline/BVOkFt9Ut6BFEnhGZfc284PJGlWeMGngfn8a0uxTZanRDPU-MLuNScJaUQCd289yAsEN6AD1-WT-JLdqWTdBTvVbItqyNCqxhlySDHEp7HV-u8cUSaTbVh02u1zrAgDZ82GbAg1yPpIesVy_1VgxkYPP/file# [following]\n",
      "--2021-08-30 12:42:00--  https://uc142bfa41043e39fd41c3bbaa73.dl.dropboxusercontent.com/cd/0/inline/BVOkFt9Ut6BFEnhGZfc284PJGlWeMGngfn8a0uxTZanRDPU-MLuNScJaUQCd289yAsEN6AD1-WT-JLdqWTdBTvVbItqyNCqxhlySDHEp7HV-u8cUSaTbVh02u1zrAgDZ82GbAg1yPpIesVy_1VgxkYPP/file\n",
      "Resolving uc142bfa41043e39fd41c3bbaa73.dl.dropboxusercontent.com (uc142bfa41043e39fd41c3bbaa73.dl.dropboxusercontent.com)... 162.125.3.15, 2620:100:6018:15::a27d:30f\n",
      "Connecting to uc142bfa41043e39fd41c3bbaa73.dl.dropboxusercontent.com (uc142bfa41043e39fd41c3bbaa73.dl.dropboxusercontent.com)|162.125.3.15|:443... connected.\n",
      "HTTP request sent, awaiting response... 200 OK\n",
      "Length: 376445 (368K) [text/plain]\n",
      "Saving to: ‘/content/ratings.txt’\n",
      "\n",
      "/content/ratings.tx 100%[===================>] 367.62K  --.-KB/s    in 0.08s   \n",
      "\n",
      "2021-08-30 12:42:01 (4.60 MB/s) - ‘/content/ratings.txt’ saved [376445/376445]\n",
      "\n"
     ]
    }
   ],
   "source": [
    "!wget https://www.dropbox.com/s/nh7h0bfyg3fquav/ratings.txt?dl=0 -O /content/ratings.txt"
   ]
  },
  {
   "cell_type": "code",
   "execution_count": 2,
   "metadata": {
    "colab": {
     "base_uri": "https://localhost:8080/"
    },
    "id": "ajK79Unjz7qW",
    "outputId": "d3083811-ee2f-4338-8be8-842f51279576"
   },
   "outputs": [
    {
     "name": "stdout",
     "output_type": "stream",
     "text": [
      "[PosixPath('/media'), PosixPath('/lib64'), PosixPath('/boot'), PosixPath('/dev'), PosixPath('/sys'), PosixPath('/home'), PosixPath('/srv'), PosixPath('/tmp'), PosixPath('/mnt'), PosixPath('/usr'), PosixPath('/bin'), PosixPath('/etc'), PosixPath('/root'), PosixPath('/sbin'), PosixPath('/opt'), PosixPath('/var'), PosixPath('/proc'), PosixPath('/lib'), PosixPath('/run'), PosixPath('/content'), PosixPath('/.dockerenv'), PosixPath('/datalab'), PosixPath('/tools'), PosixPath('/tensorflow-1.15.2'), PosixPath('/lib32')]\n",
      "   uid  iid  rating\n",
      "0    1    1     2.0\n",
      "1    1    2     4.0\n",
      "2    1    3     3.5\n",
      "3    1    4     3.0\n",
      "4    1    5     4.0\n"
     ]
    }
   ],
   "source": [
    "from fastai.collab import *\n",
    "\n",
    "# specify path\n",
    "# path = Path('/content')\n",
    "path = Path('/')\n",
    "print(path.ls())\n",
    "\n",
    "\n",
    "\n",
    "# load in ratings data\n",
    "# ratings = pd.read_csv(path/'ratings.csv')\n",
    "df_ratings = pd.read_csv ('/content/ratings.txt',sep= ' ',names= ['uid', 'iid', 'rating'])\n",
    "\n",
    "\n",
    "print(df_ratings.head())\n",
    "\n",
    "# # load in book information data\n",
    "# books = pd.read_csv(path/'books.csv')\n",
    "# books.head()\n"
   ]
  },
  {
   "cell_type": "markdown",
   "metadata": {
    "id": "gaDArFJAHx-L"
   },
   "source": [
    "## Create DataBunch\n",
    "\n",
    "\n"
   ]
  },
  {
   "cell_type": "code",
   "execution_count": 3,
   "metadata": {
    "colab": {
     "base_uri": "https://localhost:8080/",
     "height": 359
    },
    "id": "1nBt3-Fo0dKv",
    "outputId": "e6bdb518-bb89-43c7-f822-5e996317b7a0"
   },
   "outputs": [
    {
     "data": {
      "text/html": [
       "<table border=\"1\" class=\"dataframe\">\n",
       "  <thead>\n",
       "    <tr style=\"text-align: right;\">\n",
       "      <th>uid</th>\n",
       "      <th>iid</th>\n",
       "      <th>target</th>\n",
       "    </tr>\n",
       "  </thead>\n",
       "  <tbody>\n",
       "    <tr>\n",
       "      <td>147</td>\n",
       "      <td>236</td>\n",
       "      <td>4.0</td>\n",
       "    </tr>\n",
       "    <tr>\n",
       "      <td>1003</td>\n",
       "      <td>249</td>\n",
       "      <td>2.5</td>\n",
       "    </tr>\n",
       "    <tr>\n",
       "      <td>670</td>\n",
       "      <td>1414</td>\n",
       "      <td>2.5</td>\n",
       "    </tr>\n",
       "    <tr>\n",
       "      <td>136</td>\n",
       "      <td>620</td>\n",
       "      <td>4.0</td>\n",
       "    </tr>\n",
       "    <tr>\n",
       "      <td>984</td>\n",
       "      <td>207</td>\n",
       "      <td>4.0</td>\n",
       "    </tr>\n",
       "    <tr>\n",
       "      <td>442</td>\n",
       "      <td>255</td>\n",
       "      <td>3.0</td>\n",
       "    </tr>\n",
       "    <tr>\n",
       "      <td>159</td>\n",
       "      <td>12</td>\n",
       "      <td>1.0</td>\n",
       "    </tr>\n",
       "    <tr>\n",
       "      <td>115</td>\n",
       "      <td>212</td>\n",
       "      <td>3.5</td>\n",
       "    </tr>\n",
       "    <tr>\n",
       "      <td>1153</td>\n",
       "      <td>205</td>\n",
       "      <td>1.5</td>\n",
       "    </tr>\n",
       "    <tr>\n",
       "      <td>312</td>\n",
       "      <td>17</td>\n",
       "      <td>2.5</td>\n",
       "    </tr>\n",
       "  </tbody>\n",
       "</table>"
      ],
      "text/plain": [
       "<IPython.core.display.HTML object>"
      ]
     },
     "metadata": {},
     "output_type": "display_data"
    }
   ],
   "source": [
    "data = CollabDataBunch.from_df(df_ratings, seed=42, valid_pct=0.1, \n",
    "                               user_name='uid', \n",
    "                               item_name='iid',\n",
    "                               rating_name='rating')\n",
    "data.show_batch(10)"
   ]
  },
  {
   "cell_type": "code",
   "execution_count": null,
   "metadata": {
    "colab": {
     "base_uri": "https://localhost:8080/"
    },
    "id": "Xcsxb6LboAlc",
    "outputId": "60347089-7189-4123-d476-c6b6f8236a50"
   },
   "outputs": [
    {
     "data": {
      "text/plain": [
       "TabularDataBunch;\n",
       "\n",
       "Train: LabelList (31948 items)\n",
       "x: CollabList\n",
       "uid 1; iid 1; ,uid 1; iid 2; ,uid 1; iid 3; ,uid 1; iid 4; ,uid 1; iid 6; \n",
       "y: FloatList\n",
       "2.0,4.0,3.5,3.0,3.5\n",
       "Path: .;\n",
       "\n",
       "Valid: LabelList (3549 items)\n",
       "x: CollabList\n",
       "uid 471; iid 6; ,uid 1034; iid 903; ,uid 1249; iid 257; ,uid 515; iid 1; ,uid 1282; iid 9; \n",
       "y: FloatList\n",
       "3.5,3.0,3.0,4.0,4.0\n",
       "Path: .;\n",
       "\n",
       "Test: None"
      ]
     },
     "execution_count": 14,
     "metadata": {},
     "output_type": "execute_result"
    }
   ],
   "source": [
    "# Note: It splits the data to train and valid \n",
    "data"
   ]
  },
  {
   "cell_type": "markdown",
   "metadata": {
    "id": "XOmWe_6EH5u7"
   },
   "source": [
    "## Create  Learner instance "
   ]
  },
  {
   "cell_type": "code",
   "execution_count": 4,
   "metadata": {
    "colab": {
     "base_uri": "https://localhost:8080/"
    },
    "id": "NN9_94HX0jWI",
    "outputId": "11ddc99c-1356-47cf-de8f-ed16d883c8f1"
   },
   "outputs": [
    {
     "data": {
      "text/plain": [
       "(0.5, 4.0)"
      ]
     },
     "execution_count": 4,
     "metadata": {},
     "output_type": "execute_result"
    }
   ],
   "source": [
    "df_ratings.rating.min(), df_ratings.rating.max()"
   ]
  },
  {
   "cell_type": "code",
   "execution_count": 6,
   "metadata": {
    "id": "5DTx7pWZ0nhJ"
   },
   "outputs": [],
   "source": [
    "learn = collab_learner(data, n_factors=40, y_range=(0.5, 4.0), wd=1e-1)"
   ]
  },
  {
   "cell_type": "markdown",
   "metadata": {
    "id": "Z4zU0dGRIBZ-"
   },
   "source": [
    "## Determine the best learning rate "
   ]
  },
  {
   "cell_type": "code",
   "execution_count": 7,
   "metadata": {
    "colab": {
     "base_uri": "https://localhost:8080/",
     "height": 374
    },
    "id": "ZcaZB3az0q9o",
    "outputId": "77ff2d37-af8c-4437-f199-783b9fa7045b"
   },
   "outputs": [
    {
     "data": {
      "text/html": [
       "\n",
       "    <div>\n",
       "        <style>\n",
       "            /* Turns off some styling */\n",
       "            progress {\n",
       "                /* gets rid of default border in Firefox and Opera. */\n",
       "                border: none;\n",
       "                /* Needs to be in here for Safari polyfill so background images work as expected. */\n",
       "                background-size: auto;\n",
       "            }\n",
       "            .progress-bar-interrupted, .progress-bar-interrupted::-webkit-progress-bar {\n",
       "                background: #F44336;\n",
       "            }\n",
       "        </style>\n",
       "      <progress value='0' class='' max='1' style='width:300px; height:20px; vertical-align: middle;'></progress>\n",
       "      0.00% [0/1 00:00<00:00]\n",
       "    </div>\n",
       "    \n",
       "<table border=\"1\" class=\"dataframe\">\n",
       "  <thead>\n",
       "    <tr style=\"text-align: left;\">\n",
       "      <th>epoch</th>\n",
       "      <th>train_loss</th>\n",
       "      <th>valid_loss</th>\n",
       "      <th>time</th>\n",
       "    </tr>\n",
       "  </thead>\n",
       "  <tbody>\n",
       "  </tbody>\n",
       "</table><p>\n",
       "\n",
       "    <div>\n",
       "        <style>\n",
       "            /* Turns off some styling */\n",
       "            progress {\n",
       "                /* gets rid of default border in Firefox and Opera. */\n",
       "                border: none;\n",
       "                /* Needs to be in here for Safari polyfill so background images work as expected. */\n",
       "                background-size: auto;\n",
       "            }\n",
       "            .progress-bar-interrupted, .progress-bar-interrupted::-webkit-progress-bar {\n",
       "                background: #F44336;\n",
       "            }\n",
       "        </style>\n",
       "      <progress value='99' class='' max='499' style='width:300px; height:20px; vertical-align: middle;'></progress>\n",
       "      19.84% [99/499 00:01<00:05 1.7938]\n",
       "    </div>\n",
       "    "
      ],
      "text/plain": [
       "<IPython.core.display.HTML object>"
      ]
     },
     "metadata": {},
     "output_type": "display_data"
    },
    {
     "name": "stdout",
     "output_type": "stream",
     "text": [
      "LR Finder is complete, type {learner_name}.recorder.plot() to see the graph.\n"
     ]
    },
    {
     "data": {
      "image/png": "[encoded data removed]",
      "text/plain": [
       "<Figure size 432x288 with 1 Axes>"
      ]
     },
     "metadata": {
      "needs_background": "light"
     },
     "output_type": "display_data"
    }
   ],
   "source": [
    "learn.lr_find() # find learning rate\n",
    "learn.recorder.plot() # plot learning rate graph"
   ]
  },
  {
   "cell_type": "markdown",
   "metadata": {
    "id": "AM-TpVopIVV8"
   },
   "source": [
    "#### The local minimum on the plot is the best lr . Currently it is lr= 1e0 \n",
    "\n",
    "# Run the traing for 5 epochs"
   ]
  },
  {
   "cell_type": "code",
   "execution_count": 8,
   "metadata": {
    "colab": {
     "base_uri": "https://localhost:8080/",
     "height": 204
    },
    "id": "aTHzYNGV0tHR",
    "outputId": "115a30e9-4af8-40f8-8560-7bdc36ae50da"
   },
   "outputs": [
    {
     "data": {
      "text/html": [
       "<table border=\"1\" class=\"dataframe\">\n",
       "  <thead>\n",
       "    <tr style=\"text-align: left;\">\n",
       "      <th>epoch</th>\n",
       "      <th>train_loss</th>\n",
       "      <th>valid_loss</th>\n",
       "      <th>time</th>\n",
       "    </tr>\n",
       "  </thead>\n",
       "  <tbody>\n",
       "    <tr>\n",
       "      <td>0</td>\n",
       "      <td>2.591237</td>\n",
       "      <td>2.580037</td>\n",
       "      <td>00:05</td>\n",
       "    </tr>\n",
       "    <tr>\n",
       "      <td>1</td>\n",
       "      <td>2.622185</td>\n",
       "      <td>2.514935</td>\n",
       "      <td>00:05</td>\n",
       "    </tr>\n",
       "    <tr>\n",
       "      <td>2</td>\n",
       "      <td>2.532372</td>\n",
       "      <td>2.505999</td>\n",
       "      <td>00:05</td>\n",
       "    </tr>\n",
       "    <tr>\n",
       "      <td>3</td>\n",
       "      <td>1.863654</td>\n",
       "      <td>1.723462</td>\n",
       "      <td>00:05</td>\n",
       "    </tr>\n",
       "    <tr>\n",
       "      <td>4</td>\n",
       "      <td>0.739340</td>\n",
       "      <td>0.759699</td>\n",
       "      <td>00:06</td>\n",
       "    </tr>\n",
       "  </tbody>\n",
       "</table>"
      ],
      "text/plain": [
       "<IPython.core.display.HTML object>"
      ]
     },
     "metadata": {},
     "output_type": "display_data"
    }
   ],
   "source": [
    "learn.fit_one_cycle(5, 1) # epoch = 5 lr =  1e0"
   ]
  },
  {
   "cell_type": "markdown",
   "metadata": {
    "id": "Hh9uSDFnNlxV"
   },
   "source": [
    "## Save and load model\n",
    "\n",
    "For demo purpose "
   ]
  },
  {
   "cell_type": "code",
   "execution_count": null,
   "metadata": {
    "id": "jeI6BaaX0yCY"
   },
   "outputs": [],
   "source": [
    "learn.save('good_movies')"
   ]
  },
  {
   "cell_type": "code",
   "execution_count": null,
   "metadata": {
    "id": "ZUXdk86F4RYc"
   },
   "outputs": [],
   "source": [
    "# load in EmbeddingDotBias model\n",
    "learn = collab_learner(data, n_factors=40, y_range=(0.5, 4.0), wd=1e-1, model_dir=\"/content/models/\", path=\"/conent/\")\n",
    "learn.load('good_movies');\n"
   ]
  },
  {
   "cell_type": "markdown",
   "metadata": {
    "id": "TewmDN3WMmVw"
   },
   "source": [
    "## Predict \n",
    "\n",
    "Foe demo purpose lets use the first 64 of valid data \n",
    "Note: "
   ]
  },
  {
   "cell_type": "code",
   "execution_count": 9,
   "metadata": {
    "id": "sqBW8G-p6lPQ"
   },
   "outputs": [],
   "source": [
    "(uids, iids), ratings =  next(iter(data.valid_dl))"
   ]
  },
  {
   "cell_type": "code",
   "execution_count": 10,
   "metadata": {
    "colab": {
     "base_uri": "https://localhost:8080/"
    },
    "id": "WFVpVOtu7aO8",
    "outputId": "aec89a70-cd11-4791-a208-f90d7ed1ea64"
   },
   "outputs": [
    {
     "data": {
      "text/plain": [
       "tensor([ 468, 1026, 1239,  511, 1272,   37,  406, 1411,  786, 1030,  564,  259,\n",
       "         150,  197,  266,  372,  871, 1438,  269,  671, 1434,  332,  840,   79,\n",
       "         627,  993, 1102,  511, 1177,  448,   46,  322, 1330,  787,  553,  296,\n",
       "         282,  522, 1373,  533,  645,  305,  324, 1257,  408,  993, 1014, 1276,\n",
       "         619,  860,  320,   67,  855, 1484, 1132, 1228, 1203,  160,  754,  536,\n",
       "         107,  835, 1086,  426], device='cuda:0')"
      ]
     },
     "execution_count": 10,
     "metadata": {},
     "output_type": "execute_result"
    }
   ],
   "source": [
    "uids"
   ]
  },
  {
   "cell_type": "code",
   "execution_count": 11,
   "metadata": {
    "colab": {
     "base_uri": "https://localhost:8080/"
    },
    "id": "rsI6QNN59moi",
    "outputId": "52320ee6-d25b-46c4-e719-371256b3ff58"
   },
   "outputs": [
    {
     "data": {
      "text/plain": [
       "tensor([  6, 892, 255,   1,   9,   3, 205, 231, 208,   7,   6,   3, 205, 685,\n",
       "        371,  17, 119,   7, 762,   4, 254,  11, 722, 437, 243,   7, 577,  12,\n",
       "        934, 250,   5,   2, 215, 252, 233, 209,   4, 119, 208,   9, 205, 429,\n",
       "        239,   7, 205, 204, 249, 211, 237, 241, 507,   9,   5, 251, 231, 252,\n",
       "         17, 676, 237, 234, 208, 244, 237, 233], device='cuda:0')"
      ]
     },
     "execution_count": 11,
     "metadata": {},
     "output_type": "execute_result"
    }
   ],
   "source": [
    "iids"
   ]
  },
  {
   "cell_type": "code",
   "execution_count": 12,
   "metadata": {
    "colab": {
     "base_uri": "https://localhost:8080/"
    },
    "id": "qSexeT2Z9qqe",
    "outputId": "086ba9e1-0d8a-47e6-e890-f371f6039d25"
   },
   "outputs": [
    {
     "data": {
      "text/plain": [
       "tensor([3.5000, 3.0000, 3.0000, 4.0000, 4.0000, 4.0000, 2.5000, 0.5000, 4.0000,\n",
       "        3.5000, 3.5000, 3.0000, 4.0000, 0.5000, 3.5000, 1.5000, 4.0000, 0.5000,\n",
       "        2.5000, 4.0000, 3.0000, 3.5000, 4.0000, 3.5000, 3.5000, 4.0000, 4.0000,\n",
       "        3.0000, 2.0000, 3.0000, 3.5000, 4.0000, 3.5000, 3.0000, 4.0000, 4.0000,\n",
       "        4.0000, 0.5000, 4.0000, 4.0000, 3.0000, 1.0000, 2.0000, 4.0000, 3.5000,\n",
       "        3.0000, 3.5000, 3.0000, 4.0000, 4.0000, 3.0000, 4.0000, 4.0000, 1.0000,\n",
       "        4.0000, 4.0000, 2.5000, 3.0000, 2.0000, 3.0000, 4.0000, 4.0000, 4.0000,\n",
       "        3.5000], device='cuda:0')"
      ]
     },
     "execution_count": 12,
     "metadata": {},
     "output_type": "execute_result"
    }
   ],
   "source": [
    "ratings"
   ]
  },
  {
   "cell_type": "code",
   "execution_count": 13,
   "metadata": {
    "colab": {
     "base_uri": "https://localhost:8080/"
    },
    "id": "P2uXcyjlNtQe",
    "outputId": "39649602-d23a-4875-bf24-62b1174e512c"
   },
   "outputs": [
    {
     "data": {
      "text/plain": [
       "tensor([2.4740, 3.4829, 2.9060, 3.0921, 3.3950, 3.6636, 2.2094, 2.4784, 3.5013,\n",
       "        2.1788, 2.7002, 3.2678, 2.7228, 1.1071, 2.0029, 2.3403, 2.6461, 3.1985,\n",
       "        2.5819, 3.4032, 3.2031, 3.7345, 3.0177, 2.0181, 3.4138, 2.7146, 2.0453,\n",
       "        3.2858, 2.4155, 2.8906, 3.5763, 3.5789, 3.3072, 2.9669, 2.4344, 3.7178,\n",
       "        3.6344, 2.2896, 2.2220, 3.3874, 2.5595, 3.6800, 2.8599, 2.7261, 2.9099,\n",
       "        2.1736, 3.2115, 3.4403, 3.4738, 2.1509, 2.3664, 3.4985, 3.5969, 2.6609,\n",
       "        2.8354, 3.2152, 2.9528, 2.7030, 3.2641, 3.5772, 3.4490, 3.5327, 3.0926,\n",
       "        2.8147], device='cuda:0', grad_fn=<AddBackward0>)"
      ]
     },
     "execution_count": 13,
     "metadata": {},
     "output_type": "execute_result"
    }
   ],
   "source": [
    "preds= learn.model(uids, iids)\n",
    "preds"
   ]
  },
  {
   "cell_type": "code",
   "execution_count": 14,
   "metadata": {
    "colab": {
     "base_uri": "https://localhost:8080/"
    },
    "id": "thPVOzca_rSu",
    "outputId": "3525f8fb-4642-48ab-c054-9b49b55f71c6"
   },
   "outputs": [
    {
     "name": "stdout",
     "output_type": "stream",
     "text": [
      "2.4739880561828613\n"
     ]
    }
   ],
   "source": [
    "print ('{}'.format(preds[0]))"
   ]
  },
  {
   "cell_type": "code",
   "execution_count": null,
   "metadata": {
    "id": "ROUxEeHVH0ha"
   },
   "outputs": [],
   "source": []
  },
  {
   "cell_type": "markdown",
   "metadata": {
    "id": "1juXb4czgLYr"
   },
   "source": [
    "## Evaluate FastaAI model "
   ]
  },
  {
   "cell_type": "code",
   "execution_count": 15,
   "metadata": {
    "colab": {
     "base_uri": "https://localhost:8080/"
    },
    "id": "FSxfkKlQhko3",
    "outputId": "3ea11401-7a47-4371-f219-599e45c04348"
   },
   "outputs": [
    {
     "data": {
      "text/plain": [
       "((34473, 3), (1024, 3))"
      ]
     },
     "execution_count": 15,
     "metadata": {},
     "output_type": "execute_result"
    }
   ],
   "source": [
    "from sklearn.model_selection import train_test_split \n",
    "df_train, df_test= train_test_split (df_ratings, test_size = 1024)\n",
    "df_train.shape,df_test.shape"
   ]
  },
  {
   "cell_type": "code",
   "execution_count": null,
   "metadata": {
    "colab": {
     "base_uri": "https://localhost:8080/"
    },
    "id": "5DHI7cmroiTu",
    "outputId": "21976907-47e2-4dfb-f582-bc741558ea78"
   },
   "outputs": [
    {
     "data": {
      "text/plain": [
       "(0.5, 4.0, 0.5, 4.0)"
      ]
     },
     "execution_count": 27,
     "metadata": {},
     "output_type": "execute_result"
    }
   ],
   "source": [
    "df_train.rating.min(), df_train.rating.max(), df_test.rating.min(), df_test.rating.max()"
   ]
  },
  {
   "cell_type": "code",
   "execution_count": 17,
   "metadata": {
    "colab": {
     "base_uri": "https://localhost:8080/",
     "height": 514
    },
    "id": "fmnZiaV3NVh3",
    "outputId": "252317c4-a325-4313-d4ed-ab1530199711"
   },
   "outputs": [
    {
     "data": {
      "text/html": [
       "<table border=\"1\" class=\"dataframe\">\n",
       "  <thead>\n",
       "    <tr style=\"text-align: right;\">\n",
       "      <th>uid</th>\n",
       "      <th>iid</th>\n",
       "      <th>target</th>\n",
       "    </tr>\n",
       "  </thead>\n",
       "  <tbody>\n",
       "    <tr>\n",
       "      <td>402</td>\n",
       "      <td>1248</td>\n",
       "      <td>1.5</td>\n",
       "    </tr>\n",
       "    <tr>\n",
       "      <td>1002</td>\n",
       "      <td>522</td>\n",
       "      <td>2.5</td>\n",
       "    </tr>\n",
       "    <tr>\n",
       "      <td>1050</td>\n",
       "      <td>255</td>\n",
       "      <td>3.0</td>\n",
       "    </tr>\n",
       "    <tr>\n",
       "      <td>548</td>\n",
       "      <td>5</td>\n",
       "      <td>1.0</td>\n",
       "    </tr>\n",
       "    <tr>\n",
       "      <td>1366</td>\n",
       "      <td>5</td>\n",
       "      <td>2.0</td>\n",
       "    </tr>\n",
       "    <tr>\n",
       "      <td>223</td>\n",
       "      <td>236</td>\n",
       "      <td>4.0</td>\n",
       "    </tr>\n",
       "    <tr>\n",
       "      <td>826</td>\n",
       "      <td>210</td>\n",
       "      <td>4.0</td>\n",
       "    </tr>\n",
       "    <tr>\n",
       "      <td>225</td>\n",
       "      <td>250</td>\n",
       "      <td>4.0</td>\n",
       "    </tr>\n",
       "    <tr>\n",
       "      <td>1236</td>\n",
       "      <td>255</td>\n",
       "      <td>2.5</td>\n",
       "    </tr>\n",
       "    <tr>\n",
       "      <td>428</td>\n",
       "      <td>207</td>\n",
       "      <td>3.0</td>\n",
       "    </tr>\n",
       "    <tr>\n",
       "      <td>1133</td>\n",
       "      <td>207</td>\n",
       "      <td>2.0</td>\n",
       "    </tr>\n",
       "    <tr>\n",
       "      <td>646</td>\n",
       "      <td>233</td>\n",
       "      <td>3.5</td>\n",
       "    </tr>\n",
       "    <tr>\n",
       "      <td>1148</td>\n",
       "      <td>245</td>\n",
       "      <td>3.5</td>\n",
       "    </tr>\n",
       "    <tr>\n",
       "      <td>1505</td>\n",
       "      <td>2</td>\n",
       "      <td>3.0</td>\n",
       "    </tr>\n",
       "    <tr>\n",
       "      <td>800</td>\n",
       "      <td>246</td>\n",
       "      <td>3.0</td>\n",
       "    </tr>\n",
       "  </tbody>\n",
       "</table>"
      ],
      "text/plain": [
       "<IPython.core.display.HTML object>"
      ]
     },
     "metadata": {},
     "output_type": "display_data"
    }
   ],
   "source": [
    "data_train = CollabDataBunch.from_df(df_train, seed=42, valid_pct=0, \n",
    "                               user_name='uid', \n",
    "                               item_name='iid',\n",
    "                               rating_name='rating')\n",
    "data_train.show_batch(15)"
   ]
  },
  {
   "cell_type": "code",
   "execution_count": 19,
   "metadata": {
    "colab": {
     "base_uri": "https://localhost:8080/",
     "height": 374
    },
    "id": "9vAqYWefhDHC",
    "outputId": "1f289e67-b84e-4646-ecbe-9436667165e0"
   },
   "outputs": [
    {
     "data": {
      "text/html": [
       "\n",
       "    <div>\n",
       "        <style>\n",
       "            /* Turns off some styling */\n",
       "            progress {\n",
       "                /* gets rid of default border in Firefox and Opera. */\n",
       "                border: none;\n",
       "                /* Needs to be in here for Safari polyfill so background images work as expected. */\n",
       "                background-size: auto;\n",
       "            }\n",
       "            .progress-bar-interrupted, .progress-bar-interrupted::-webkit-progress-bar {\n",
       "                background: #F44336;\n",
       "            }\n",
       "        </style>\n",
       "      <progress value='0' class='' max='1' style='width:300px; height:20px; vertical-align: middle;'></progress>\n",
       "      0.00% [0/1 00:00<00:00]\n",
       "    </div>\n",
       "    \n",
       "<table border=\"1\" class=\"dataframe\">\n",
       "  <thead>\n",
       "    <tr style=\"text-align: left;\">\n",
       "      <th>epoch</th>\n",
       "      <th>train_loss</th>\n",
       "      <th>valid_loss</th>\n",
       "      <th>time</th>\n",
       "    </tr>\n",
       "  </thead>\n",
       "  <tbody>\n",
       "  </tbody>\n",
       "</table><p>\n",
       "\n",
       "    <div>\n",
       "        <style>\n",
       "            /* Turns off some styling */\n",
       "            progress {\n",
       "                /* gets rid of default border in Firefox and Opera. */\n",
       "                border: none;\n",
       "                /* Needs to be in here for Safari polyfill so background images work as expected. */\n",
       "                background-size: auto;\n",
       "            }\n",
       "            .progress-bar-interrupted, .progress-bar-interrupted::-webkit-progress-bar {\n",
       "                background: #F44336;\n",
       "            }\n",
       "        </style>\n",
       "      <progress value='88' class='' max='538' style='width:300px; height:20px; vertical-align: middle;'></progress>\n",
       "      16.36% [88/538 00:01<00:05 1.3972]\n",
       "    </div>\n",
       "    "
      ],
      "text/plain": [
       "<IPython.core.display.HTML object>"
      ]
     },
     "metadata": {},
     "output_type": "display_data"
    },
    {
     "name": "stdout",
     "output_type": "stream",
     "text": [
      "LR Finder is complete, type {learner_name}.recorder.plot() to see the graph.\n"
     ]
    },
    {
     "data": {
      "image/png": "[encoded data removed]",
      "text/plain": [
       "<Figure size 432x288 with 1 Axes>"
      ]
     },
     "metadata": {
      "needs_background": "light"
     },
     "output_type": "display_data"
    }
   ],
   "source": [
    "learn = collab_learner(data_train, n_factors=40, y_range=(0.5, 4.0), wd=1e-1)\n",
    "learn.lr_find() # find learning rate\n",
    "learn.recorder.plot() # plot learning rate graph"
   ]
  },
  {
   "cell_type": "code",
   "execution_count": 20,
   "metadata": {
    "colab": {
     "base_uri": "https://localhost:8080/",
     "height": 204
    },
    "id": "mWu6dJDKhWgA",
    "outputId": "869cdb6c-6024-445e-e2a3-0a7afffb8a96"
   },
   "outputs": [
    {
     "data": {
      "text/html": [
       "<table border=\"1\" class=\"dataframe\">\n",
       "  <thead>\n",
       "    <tr style=\"text-align: left;\">\n",
       "      <th>epoch</th>\n",
       "      <th>train_loss</th>\n",
       "      <th>valid_loss</th>\n",
       "      <th>time</th>\n",
       "    </tr>\n",
       "  </thead>\n",
       "  <tbody>\n",
       "    <tr>\n",
       "      <td>0</td>\n",
       "      <td>2.537781</td>\n",
       "      <td>#na#</td>\n",
       "      <td>00:05</td>\n",
       "    </tr>\n",
       "    <tr>\n",
       "      <td>1</td>\n",
       "      <td>2.598903</td>\n",
       "      <td>#na#</td>\n",
       "      <td>00:05</td>\n",
       "    </tr>\n",
       "    <tr>\n",
       "      <td>2</td>\n",
       "      <td>2.509420</td>\n",
       "      <td>#na#</td>\n",
       "      <td>00:05</td>\n",
       "    </tr>\n",
       "    <tr>\n",
       "      <td>3</td>\n",
       "      <td>1.846228</td>\n",
       "      <td>#na#</td>\n",
       "      <td>00:05</td>\n",
       "    </tr>\n",
       "    <tr>\n",
       "      <td>4</td>\n",
       "      <td>0.736622</td>\n",
       "      <td>#na#</td>\n",
       "      <td>00:05</td>\n",
       "    </tr>\n",
       "  </tbody>\n",
       "</table>"
      ],
      "text/plain": [
       "<IPython.core.display.HTML object>"
      ]
     },
     "metadata": {},
     "output_type": "display_data"
    }
   ],
   "source": [
    "learn.fit_one_cycle(5, 1)"
   ]
  },
  {
   "cell_type": "code",
   "execution_count": null,
   "metadata": {
    "id": "J1L0MIyNtIZz"
   },
   "outputs": [],
   "source": [
    "# uids_test = torch.tensor(df_test.iloc[:64,0].values)\n",
    "# iids_test = torch.tensor(df_test.iloc[:64,0].values)\n",
    "# preds= learn.model(uids_test, iids_test)\n"
   ]
  },
  {
   "cell_type": "markdown",
   "metadata": {
    "id": "WcyKPgYCpti3"
   },
   "source": [
    "### Evaluate on test set "
   ]
  },
  {
   "cell_type": "code",
   "execution_count": null,
   "metadata": {
    "colab": {
     "base_uri": "https://localhost:8080/",
     "height": 419
    },
    "id": "-TcpzQKrpv9C",
    "outputId": "1a9975aa-4597-4239-e9a4-7661742879f8"
   },
   "outputs": [
    {
     "data": {
      "text/html": [
       "<div>\n",
       "<style scoped>\n",
       "    .dataframe tbody tr th:only-of-type {\n",
       "        vertical-align: middle;\n",
       "    }\n",
       "\n",
       "    .dataframe tbody tr th {\n",
       "        vertical-align: top;\n",
       "    }\n",
       "\n",
       "    .dataframe thead th {\n",
       "        text-align: right;\n",
       "    }\n",
       "</style>\n",
       "<table border=\"1\" class=\"dataframe\">\n",
       "  <thead>\n",
       "    <tr style=\"text-align: right;\">\n",
       "      <th></th>\n",
       "      <th>uid</th>\n",
       "      <th>iid</th>\n",
       "      <th>rating</th>\n",
       "    </tr>\n",
       "  </thead>\n",
       "  <tbody>\n",
       "    <tr>\n",
       "      <th>4789</th>\n",
       "      <td>200</td>\n",
       "      <td>211</td>\n",
       "      <td>4.0</td>\n",
       "    </tr>\n",
       "    <tr>\n",
       "      <th>5632</th>\n",
       "      <td>238</td>\n",
       "      <td>7</td>\n",
       "      <td>2.5</td>\n",
       "    </tr>\n",
       "    <tr>\n",
       "      <th>14643</th>\n",
       "      <td>601</td>\n",
       "      <td>121</td>\n",
       "      <td>3.0</td>\n",
       "    </tr>\n",
       "    <tr>\n",
       "      <th>761</th>\n",
       "      <td>38</td>\n",
       "      <td>213</td>\n",
       "      <td>0.5</td>\n",
       "    </tr>\n",
       "    <tr>\n",
       "      <th>4952</th>\n",
       "      <td>204</td>\n",
       "      <td>3</td>\n",
       "      <td>4.0</td>\n",
       "    </tr>\n",
       "    <tr>\n",
       "      <th>...</th>\n",
       "      <td>...</td>\n",
       "      <td>...</td>\n",
       "      <td>...</td>\n",
       "    </tr>\n",
       "    <tr>\n",
       "      <th>62</th>\n",
       "      <td>3</td>\n",
       "      <td>63</td>\n",
       "      <td>1.5</td>\n",
       "    </tr>\n",
       "    <tr>\n",
       "      <th>13320</th>\n",
       "      <td>544</td>\n",
       "      <td>10</td>\n",
       "      <td>3.5</td>\n",
       "    </tr>\n",
       "    <tr>\n",
       "      <th>29629</th>\n",
       "      <td>1241</td>\n",
       "      <td>6</td>\n",
       "      <td>1.5</td>\n",
       "    </tr>\n",
       "    <tr>\n",
       "      <th>6369</th>\n",
       "      <td>272</td>\n",
       "      <td>832</td>\n",
       "      <td>2.5</td>\n",
       "    </tr>\n",
       "    <tr>\n",
       "      <th>30130</th>\n",
       "      <td>1261</td>\n",
       "      <td>253</td>\n",
       "      <td>2.5</td>\n",
       "    </tr>\n",
       "  </tbody>\n",
       "</table>\n",
       "<p>1024 rows × 3 columns</p>\n",
       "</div>"
      ],
      "text/plain": [
       "        uid  iid  rating\n",
       "4789    200  211     4.0\n",
       "5632    238    7     2.5\n",
       "14643   601  121     3.0\n",
       "761      38  213     0.5\n",
       "4952    204    3     4.0\n",
       "...     ...  ...     ...\n",
       "62        3   63     1.5\n",
       "13320   544   10     3.5\n",
       "29629  1241    6     1.5\n",
       "6369    272  832     2.5\n",
       "30130  1261  253     2.5\n",
       "\n",
       "[1024 rows x 3 columns]"
      ]
     },
     "execution_count": 39,
     "metadata": {},
     "output_type": "execute_result"
    }
   ],
   "source": [
    "df_test"
   ]
  },
  {
   "cell_type": "code",
   "execution_count": 21,
   "metadata": {
    "colab": {
     "base_uri": "https://localhost:8080/"
    },
    "id": "ZwqMrxgLhuvQ",
    "outputId": "06b7a3ff-d29a-4c9d-ffcb-bb7991d9fd2b"
   },
   "outputs": [
    {
     "data": {
      "text/plain": [
       "TabularDataBunch;\n",
       "\n",
       "Train: LabelList (1024 items)\n",
       "x: CollabList\n",
       "uid 169; iid 246; ,uid 208; iid 245; ,uid 227; iid 246; ,uid 1159; iid 10; ,uid 1060; iid 1227; \n",
       "y: FloatList\n",
       "3.0,3.0,3.0,3.5,3.0\n",
       "Path: .;\n",
       "\n",
       "Valid: LabelList (0 items)\n",
       "x: CollabList\n",
       "\n",
       "y: FloatList\n",
       "\n",
       "Path: .;\n",
       "\n",
       "Test: None"
      ]
     },
     "execution_count": 21,
     "metadata": {},
     "output_type": "execute_result"
    }
   ],
   "source": [
    "data_test = CollabDataBunch.from_df(df_test, seed=2021, valid_pct=0, \n",
    "                             user_name='uid', \n",
    "                               item_name='iid',\n",
    "                               rating_name='rating')\n",
    "# data_test.show_batch(15)\n",
    "data_test"
   ]
  },
  {
   "cell_type": "code",
   "execution_count": null,
   "metadata": {
    "id": "9nudmuXhuO7a"
   },
   "outputs": [],
   "source": [
    "# test_loader = DataLoader(data_test, batch_size=64, num_workers=0, shuffle=False,)\n",
    "# test_loader"
   ]
  },
  {
   "cell_type": "code",
   "execution_count": 29,
   "metadata": {
    "colab": {
     "base_uri": "https://localhost:8080/"
    },
    "id": "MzoWxkbgwdKN",
    "outputId": "c994a7fb-2f17-4c50-eac2-2063f0035bc3"
   },
   "outputs": [
    {
     "name": "stdout",
     "output_type": "stream",
     "text": [
      "Batch # 0\n",
      "Batch # 1\n",
      "Batch # 2\n",
      "Batch # 3\n",
      "Batch # 4\n",
      "Batch # 5\n",
      "Batch # 6\n",
      "Batch # 7\n",
      "Batch # 8\n",
      "Batch # 9\n",
      "Batch # 10\n",
      "Batch # 11\n",
      "Batch # 12\n",
      "Batch # 13\n",
      "Batch # 14\n",
      "Batch # 15\n",
      "Batch # 16\n",
      "check the amount of all data: 1024\n"
     ]
    }
   ],
   "source": [
    "i = 0 \n",
    "iterator= iter(data_test.train_dl)\n",
    "all_test_batches  =[]\n",
    "\n",
    "while True: \n",
    "    try:\n",
    "        print (f'Batch # {i}')\n",
    "        (uids, iids), ratings =  next(iterator)\n",
    "        # print (uids)\n",
    "        i+=1\n",
    "        all_test_batches.append((uids, iids, ratings))        \n",
    "    except:\n",
    "        break\n",
    "\n",
    "# it returns only complete batches (64) records from train set \n",
    "print ('check the amount of all data:', \n",
    "       sum([len(test_batch[0].cpu().detach().numpy()) for test_batch in  all_test_batches]))\n",
    "\n"
   ]
  },
  {
   "cell_type": "code",
   "execution_count": 30,
   "metadata": {
    "colab": {
     "base_uri": "https://localhost:8080/"
    },
    "id": "QnaCzo8VGjtw",
    "outputId": "d8addd36-c6fd-4bcf-ed76-b31b2f4b80f3"
   },
   "outputs": [
    {
     "data": {
      "text/plain": [
       "(tensor([427, 561, 456,  74, 142, 351, 468,  45,  24, 183, 346, 396, 464, 569,\n",
       "          97, 164,  61, 377, 169, 218, 166, 354, 490, 109, 473, 128, 369, 129,\n",
       "          60, 403, 333,  13, 219, 508, 459, 417, 473, 376, 362, 248,  94, 221,\n",
       "         340, 112, 257, 341, 103, 424,  19,  54, 201, 369, 131, 264, 592,   1,\n",
       "         249, 384, 176, 165, 330,  50, 306, 282], device='cuda:0'),\n",
       " tensor([125,   5,  72,  43,   1,  12,  36,   2,  20,  10,  54,  70,   9,   8,\n",
       "          49,  51, 148,  53,  51,   5,  44,  68,  54,  47, 226,  13,  54,  59,\n",
       "         141,  60,   1,  46,  15,  10,  54,   5, 224,   1,  48,   5,  15,   7,\n",
       "         121,  12,   9,  10,  11,  10,  71,  44,   9,  55,  15,   1,   7,  26,\n",
       "          11,  66,  25,  43, 200,  53,  60,   2], device='cuda:0'),\n",
       " tensor([1.0000, 4.0000, 3.0000, 4.0000, 4.0000, 4.0000, 1.0000, 4.0000, 4.0000,\n",
       "         1.0000, 2.5000, 3.0000, 4.0000, 4.0000, 3.5000, 4.0000, 3.5000, 3.0000,\n",
       "         2.0000, 2.5000, 2.0000, 4.0000, 4.0000, 1.0000, 2.5000, 3.0000, 3.5000,\n",
       "         1.0000, 1.0000, 2.0000, 3.0000, 1.0000, 1.5000, 3.5000, 3.0000, 3.5000,\n",
       "         3.0000, 4.0000, 3.5000, 4.0000, 3.0000, 1.5000, 3.0000, 3.0000, 1.0000,\n",
       "         0.5000, 4.0000, 4.0000, 3.5000, 0.5000, 3.5000, 3.5000, 3.5000, 3.0000,\n",
       "         2.0000, 0.5000, 4.0000, 2.0000, 3.0000, 2.0000, 3.5000, 2.5000, 4.0000,\n",
       "         3.0000], device='cuda:0'))"
      ]
     },
     "execution_count": 30,
     "metadata": {},
     "output_type": "execute_result"
    }
   ],
   "source": [
    "all_test_batches[0]"
   ]
  },
  {
   "cell_type": "code",
   "execution_count": 31,
   "metadata": {
    "colab": {
     "base_uri": "https://localhost:8080/",
     "height": 419
    },
    "id": "EbXYLd5CwdIL",
    "outputId": "d0ad6c67-d33e-4c32-9291-b0fd6d55b473"
   },
   "outputs": [
    {
     "data": {
      "text/html": [
       "<div>\n",
       "<style scoped>\n",
       "    .dataframe tbody tr th:only-of-type {\n",
       "        vertical-align: middle;\n",
       "    }\n",
       "\n",
       "    .dataframe tbody tr th {\n",
       "        vertical-align: top;\n",
       "    }\n",
       "\n",
       "    .dataframe thead th {\n",
       "        text-align: right;\n",
       "    }\n",
       "</style>\n",
       "<table border=\"1\" class=\"dataframe\">\n",
       "  <thead>\n",
       "    <tr style=\"text-align: right;\">\n",
       "      <th></th>\n",
       "      <th>uid</th>\n",
       "      <th>iid</th>\n",
       "      <th>rating</th>\n",
       "      <th>rating_pred</th>\n",
       "    </tr>\n",
       "  </thead>\n",
       "  <tbody>\n",
       "    <tr>\n",
       "      <th>0</th>\n",
       "      <td>427.0</td>\n",
       "      <td>125.0</td>\n",
       "      <td>1.0</td>\n",
       "      <td>2.452118</td>\n",
       "    </tr>\n",
       "    <tr>\n",
       "      <th>1</th>\n",
       "      <td>561.0</td>\n",
       "      <td>5.0</td>\n",
       "      <td>4.0</td>\n",
       "      <td>3.255534</td>\n",
       "    </tr>\n",
       "    <tr>\n",
       "      <th>2</th>\n",
       "      <td>456.0</td>\n",
       "      <td>72.0</td>\n",
       "      <td>3.0</td>\n",
       "      <td>2.358651</td>\n",
       "    </tr>\n",
       "    <tr>\n",
       "      <th>3</th>\n",
       "      <td>74.0</td>\n",
       "      <td>43.0</td>\n",
       "      <td>4.0</td>\n",
       "      <td>2.539146</td>\n",
       "    </tr>\n",
       "    <tr>\n",
       "      <th>4</th>\n",
       "      <td>142.0</td>\n",
       "      <td>1.0</td>\n",
       "      <td>4.0</td>\n",
       "      <td>3.353830</td>\n",
       "    </tr>\n",
       "    <tr>\n",
       "      <th>...</th>\n",
       "      <td>...</td>\n",
       "      <td>...</td>\n",
       "      <td>...</td>\n",
       "      <td>...</td>\n",
       "    </tr>\n",
       "    <tr>\n",
       "      <th>59</th>\n",
       "      <td>550.0</td>\n",
       "      <td>7.0</td>\n",
       "      <td>1.0</td>\n",
       "      <td>3.354504</td>\n",
       "    </tr>\n",
       "    <tr>\n",
       "      <th>60</th>\n",
       "      <td>331.0</td>\n",
       "      <td>203.0</td>\n",
       "      <td>3.5</td>\n",
       "      <td>1.621077</td>\n",
       "    </tr>\n",
       "    <tr>\n",
       "      <th>61</th>\n",
       "      <td>169.0</td>\n",
       "      <td>60.0</td>\n",
       "      <td>3.5</td>\n",
       "      <td>2.039273</td>\n",
       "    </tr>\n",
       "    <tr>\n",
       "      <th>62</th>\n",
       "      <td>500.0</td>\n",
       "      <td>1.0</td>\n",
       "      <td>3.0</td>\n",
       "      <td>2.567632</td>\n",
       "    </tr>\n",
       "    <tr>\n",
       "      <th>63</th>\n",
       "      <td>118.0</td>\n",
       "      <td>53.0</td>\n",
       "      <td>4.0</td>\n",
       "      <td>2.378712</td>\n",
       "    </tr>\n",
       "  </tbody>\n",
       "</table>\n",
       "<p>1024 rows × 4 columns</p>\n",
       "</div>"
      ],
      "text/plain": [
       "      uid    iid  rating  rating_pred\n",
       "0   427.0  125.0     1.0     2.452118\n",
       "1   561.0    5.0     4.0     3.255534\n",
       "2   456.0   72.0     3.0     2.358651\n",
       "3    74.0   43.0     4.0     2.539146\n",
       "4   142.0    1.0     4.0     3.353830\n",
       "..    ...    ...     ...          ...\n",
       "59  550.0    7.0     1.0     3.354504\n",
       "60  331.0  203.0     3.5     1.621077\n",
       "61  169.0   60.0     3.5     2.039273\n",
       "62  500.0    1.0     3.0     2.567632\n",
       "63  118.0   53.0     4.0     2.378712\n",
       "\n",
       "[1024 rows x 4 columns]"
      ]
     },
     "execution_count": 31,
     "metadata": {},
     "output_type": "execute_result"
    }
   ],
   "source": [
    "df_test_pred= pd.DataFrame()\n",
    "for test_batch in  all_test_batches:     \n",
    "    preds= learn.model(test_batch[0], test_batch[1])\n",
    "    df_pred = pd.DataFrame([\n",
    "        test_batch[0].cpu().detach().numpy(),\n",
    "        test_batch[1].cpu().detach().numpy(),\n",
    "        test_batch[2].cpu().detach().numpy(),\n",
    "        preds.cpu().detach().numpy()]).T\n",
    "\n",
    "    df_test_pred = df_test_pred.append(df_pred)\n",
    "df_test_pred.columns = ['uid','iid','rating','rating_pred']\n",
    "df_test_pred"
   ]
  },
  {
   "cell_type": "code",
   "execution_count": 34,
   "metadata": {
    "colab": {
     "base_uri": "https://localhost:8080/",
     "height": 316
    },
    "id": "ZpY3IikTJAL-",
    "outputId": "d6b3162b-a7bd-4de9-c681-7a340cebe957"
   },
   "outputs": [
    {
     "name": "stdout",
     "output_type": "stream",
     "text": [
      "r2_score= -0.1484665133689791\n",
      "mean error = 0.8335236481257847, max error = 2.318781852722168\n"
     ]
    },
    {
     "data": {
      "text/plain": [
       "<matplotlib.axes._subplots.AxesSubplot at 0x7f7c7d9c3690>"
      ]
     },
     "execution_count": 34,
     "metadata": {},
     "output_type": "execute_result"
    },
    {
     "data": {
      "image/png": "[encoded data removed]",
      "text/plain": [
       "<Figure size 432x288 with 1 Axes>"
      ]
     },
     "metadata": {
      "needs_background": "light"
     },
     "output_type": "display_data"
    }
   ],
   "source": [
    "from sklearn.metrics import r2_score\n",
    "df_eval = df_test_pred\n",
    "print ('r2_score=', r2_score(df_eval['rating'], df_eval['rating_pred'])  )\n",
    "df_eval['diff'] = df_eval['rating']- df_eval['rating_pred']\n",
    "\n",
    "df_eval['diff']= df_eval['diff'].apply(np.abs)\n",
    "print ('mean error = {}, max error = {}'.format(df_eval['diff'].mean(), df_eval['diff'].max()) )\n",
    "df_eval['diff'].hist()"
   ]
  }
 ],
 "metadata": {
  "accelerator": "GPU",
  "colab": {
   "name": "fastai_recommender_system.ipynb",
   "provenance": []
  },
  "kernelspec": {
   "display_name": "Python 3",
   "language": "python",
   "name": "python3"
  },
  "language_info": {
   "codemirror_mode": {
    "name": "ipython",
    "version": 3
   },
   "file_extension": ".py",
   "mimetype": "text/x-python",
   "name": "python",
   "nbconvert_exporter": "python",
   "pygments_lexer": "ipython3",
   "version": "3.7.7"
  }
 },
 "nbformat": 4,
 "nbformat_minor": 1
}
