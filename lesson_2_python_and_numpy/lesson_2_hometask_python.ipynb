{
 "cells": [
  {
   "cell_type": "markdown",
   "metadata": {},
   "source": [
    "# Home task \n",
    "\n",
    "## Task about sum and product "
   ]
  },
  {
   "cell_type": "markdown",
   "metadata": {},
   "source": [
    "```\n",
    "There are two whole numbers:\n",
    "1 < a,b <100\n",
    "\n",
    "One scientist(\"Sum\") get provided with sum of numbers,\n",
    "another  (\"Prod\") get provided with product of numbers. \n",
    "Both scientists know that numbers 1 < a,b <100.\n",
    "\n",
    "Determine the numbers being based on the following dialog: \n",
    "    Prod: I don't know the numbers;\n",
    "    Sum: I know it;\n",
    "    Prod: then I know the numbers; \n",
    "    Sum: then I know the numbers too.\n",
    "```"
   ]
  },
  {
   "cell_type": "markdown",
   "metadata": {},
   "source": [
    " "
   ]
  }
 ],
 "metadata": {
  "kernelspec": {
   "display_name": "Python 3",
   "language": "python",
   "name": "python3"
  },
  "language_info": {
   "codemirror_mode": {
    "name": "ipython",
    "version": 3
   },
   "file_extension": ".py",
   "mimetype": "text/x-python",
   "name": "python",
   "nbconvert_exporter": "python",
   "pygments_lexer": "ipython3",
   "version": "3.7.7"
  }
 },
 "nbformat": 4,
 "nbformat_minor": 4
}
